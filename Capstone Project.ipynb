{
 "cells": [
  {
   "cell_type": "markdown",
   "id": "0221004f",
   "metadata": {},
   "source": [
    "## Train Test Split"
   ]
  },
  {
   "cell_type": "code",
   "execution_count": null,
   "id": "15443d79",
   "metadata": {},
   "outputs": [],
   "source": [
    "#Train Test Split\n",
    "from sklearn.model_selection import train_test_split\n",
    "train_X, test_X, train_y, test_y = train_test_split(X,y,test_size=0.2,random_state=4)\n",
    "print(f\"Shape of train_X, train_y : {train_X.shape,train_y.shape}\")\n",
    "print(f\"Shape of test_X, test_y: {test_X.shape, test_y.shape}\")"
   ]
  },
  {
   "cell_type": "markdown",
   "id": "776cbf0a",
   "metadata": {},
   "source": [
    "# K Nearest Neighbor(KNN)"
   ]
  },
  {
   "cell_type": "code",
   "execution_count": null,
   "id": "87c1b6df",
   "metadata": {},
   "outputs": [],
   "source": [
    "# TRAINING THE MODEL, PREDICTING TEST VALUES AND CALCULATING ACCURACY OF KNN FOR DIFFERENT K\n",
    "Ks = 12\n",
    "mean_acc = np.zeros((Ks-1))\n",
    "std_acc = np.zeros((Ks-1))\n",
    "\n",
    "for n in range(1,Ks):\n",
    "    \n",
    "    #Training Model and Predicting  \n",
    "    neigh = KNeighborsClassifier(n_neighbors = n).fit(train_X,train_y)\n",
    "    yhat=neigh.predict(test_X)\n",
    "    mean_acc[n-1] = metrics.accuracy_score(test_y, yhat)\n",
    "\n",
    "    \n",
    "    std_acc[n-1]=np.std(yhat==test_y)/np.sqrt(yhat.shape[0])\n",
    "\n",
    "best_k = list(mean_acc).index(max(mean_acc))+1\n",
    "TestSetAccuracy = mean_acc[list(mean_acc).index(max(mean_acc))+1]\n",
    "TrainSetAccuracy = metrics.accuracy_score(train_y, neigh.predict(train_X))\n",
    "print(f\"Best value of k is : {best_k}\\nTest Set Accuracy for k = {best_k}: {TestSetAccuracy} | Train Set Accuracy for k = {best_k}: {TrainSetAccuracy}\")\n",
    "\n",
    "# Plotting model accuracy for Different number of Neighbors\n",
    "plt.plot(range(1,Ks),mean_acc,'purple')\n",
    "plt.fill_between(range(1,Ks),mean_acc - 1 * std_acc,mean_acc + 1 * std_acc, alpha=0.10)\n",
    "plt.fill_between(range(1,Ks),mean_acc - 3 * std_acc,mean_acc + 3 * std_acc, alpha=0.10,color=\"red\")\n",
    "plt.legend(('Accuracy ', '+/- 1xstd','+/- 3xstd'))\n",
    "plt.ylabel('Accuracy ')\n",
    "plt.xlabel('Number of Neighbors (K)')\n",
    "plt.tight_layout()\n",
    "plt.show()"
   ]
  },
  {
   "cell_type": "code",
   "execution_count": null,
   "id": "8513d990",
   "metadata": {},
   "outputs": [],
   "source": [
    "#ACCURACY EVALUATION\n",
    "KNN_f1 = metrics.f1_score(test_y, yhat, labels=['COLLECTION', 'PAIDOFF'], pos_label='PAIDOFF').round(3)\n",
    "KNN_jaccard = metrics.jaccard_score(test_y, yhat,labels=['COLLECTION', 'PAIDOFF'], pos_label='PAIDOFF').round(3)\n",
    "print(f\"F1 Score : {KNN_f1}\")\n",
    "print(f\"Jaccard Score : {KNN_jaccard}\") "
   ]
  },
  {
   "cell_type": "markdown",
   "id": "d81e0e15",
   "metadata": {},
   "source": [
    "# Decision Tree"
   ]
  },
  {
   "cell_type": "code",
   "execution_count": null,
   "id": "dea80b98",
   "metadata": {},
   "outputs": [],
   "source": [
    "from sklearn.tree import DecisionTreeClassifier\n",
    "loantree = DecisionTreeClassifier(criterion='entropy',max_depth=4)\n",
    "loantree.fit(train_X,train_y)\n",
    "yhat"
   ]
  },
  {
   "cell_type": "markdown",
   "id": "373a81c7",
   "metadata": {},
   "source": [
    "Change palette to set2 in all histograms"
   ]
  },
  {
   "cell_type": "code",
   "execution_count": null,
   "id": "8e63fb0d",
   "metadata": {},
   "outputs": [],
   "source": []
  }
 ],
 "metadata": {
  "kernelspec": {
   "display_name": "Python 3",
   "language": "python",
   "name": "python3"
  },
  "language_info": {
   "codemirror_mode": {
    "name": "ipython",
    "version": 3
   },
   "file_extension": ".py",
   "mimetype": "text/x-python",
   "name": "python",
   "nbconvert_exporter": "python",
   "pygments_lexer": "ipython3",
   "version": "3.8.2"
  }
 },
 "nbformat": 4,
 "nbformat_minor": 5
}
